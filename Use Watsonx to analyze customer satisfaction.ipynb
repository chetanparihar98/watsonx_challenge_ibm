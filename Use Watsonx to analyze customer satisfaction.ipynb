{
 "cells": [
  {
   "cell_type": "markdown",
   "metadata": {
    "collapsed": true
   },
   "source": [
    "![image](https://raw.githubusercontent.com/IBM/watson-machine-learning-samples/master/cloud/notebooks/headers/watsonx-Prompt_Lab-Notebook.png)\n",
    "# Use Watsonx to analyze car rental customer satisfaction and offer recommendation."
   ]
  },
  {
   "cell_type": "markdown",
   "metadata": {},
   "source": [
    "**Note:** Please note that for the watsonx challenge, please run these notebooks in IBM Cloud and not on on your laptop/desktop."
   ]
  },
  {
   "cell_type": "markdown",
   "metadata": {},
   "source": [
    "This notebook contains the steps and code to demonstrate support of text sentiment analysis in Watsonx. It introduces commands for data retrieval, model testing and scoring.\n",
    "\n",
    "Some familiarity with Python is helpful. This notebook uses Python 3.10."
   ]
  },
  {
   "cell_type": "markdown",
   "metadata": {},
   "source": [
    "<a id=\"setup\"></a>\n",
    "## Set up the environment"
   ]
  },
  {
   "cell_type": "markdown",
   "metadata": {},
   "source": [
    "### Install and import the dependecies"
   ]
  },
  {
   "cell_type": "code",
   "execution_count": 1,
   "metadata": {},
   "outputs": [
    {
     "name": "stdout",
     "output_type": "stream",
     "text": [
      "Requirement already satisfied: six>=1.5 in /opt/conda/envs/Python-3.10/lib/python3.10/site-packages (from python-dateutil>=2.8.1->pandas->datasets) (1.16.0)\n",
      "Requirement already satisfied: numpy>=1.17.3 in /opt/conda/envs/Python-3.10/lib/python3.10/site-packages (from scikit-learn) (1.23.1)\n",
      "Requirement already satisfied: six>=1.10.0 in /opt/conda/envs/Python-3.10/lib/python3.10/site-packages (from lomond->ibm-watson-machine-learning==1.0.312) (1.16.0)\n"
     ]
    }
   ],
   "source": [
    "!pip install datasets | tail -n 1\n",
    "!pip install scikit-learn | tail -n 1\n",
    "!pip install ibm-watson-machine-learning==1.0.312 | tail -n 1"
   ]
  },
  {
   "cell_type": "markdown",
   "metadata": {},
   "source": [
    "**Note:** Please restart the notebook kernel to pick up proper version of packages installed above."
   ]
  },
  {
   "cell_type": "code",
   "execution_count": 5,
   "metadata": {},
   "outputs": [],
   "source": [
    "import os, getpass\n",
    "from pandas import read_csv"
   ]
  },
  {
   "cell_type": "markdown",
   "metadata": {},
   "source": [
    "### Watsonx API connection\n",
    "This cell defines the credentials required to work with watsonx API for Foundation\n",
    "Model inferencing.\n",
    "\n",
    "**Action:** Provide the IBM Cloud user API key. Instructions have been provided to generate IBM Cloud API key. For details, see\n",
    "[documentation](https://cloud.ibm.com/docs/account?topic=account-userapikey&interface=ui)."
   ]
  },
  {
   "cell_type": "code",
   "execution_count": 6,
   "metadata": {},
   "outputs": [
    {
     "name": "stdout",
     "output_type": "stream",
     "text": [
      "Please enter your api key (hit enter): ········\n"
     ]
    }
   ],
   "source": [
    "from ibm_cloud_sdk_core import IAMTokenManager\n",
    "from ibm_cloud_sdk_core.authenticators import IAMAuthenticator, BearerTokenAuthenticator\n",
    "import os, getpass\n",
    "\n",
    "access_token = IAMTokenManager(\n",
    "    apikey = getpass.getpass(\"Please enter your api key (hit enter): \"),\n",
    "    url = \"https://iam.cloud.ibm.com/identity/token\"\n",
    ").get_token()"
   ]
  },
  {
   "cell_type": "markdown",
   "metadata": {},
   "source": [
    "### Defining the project id\n",
    "The API requires project id that provides the context for the call. We will obtain the id from the project in which this notebook runs. When you run notebook on IBM Cloud, project in which it runs is saved as environment variable PROJECT_ID.\n",
    "\n",
    "**Hint**: You can find the `project_id` as follows. Open the prompt lab in watsonx.ai. At the very top of the UI, there will be `Projects / <project name> /`. Click on the `<project name>` link. Then get the `project_id` from Project's Manage tab (Project -> Manage -> General -> Details).\n"
   ]
  },
  {
   "cell_type": "code",
   "execution_count": 7,
   "metadata": {},
   "outputs": [],
   "source": [
    "try:\n",
    "    project_id = os.environ[\"PROJECT_ID\"]\n",
    "except KeyError:\n",
    "    project_id = input(\"Please enter your project_id (hit enter): \")"
   ]
  },
  {
   "cell_type": "markdown",
   "metadata": {},
   "source": [
    "<a id=\"data\"></a>\n",
    "## Train/test data loading"
   ]
  },
  {
   "cell_type": "markdown",
   "metadata": {},
   "source": [
    "Load train and test datasets. At first, training dataset (`train_data`) should be used to work with the models to prepare and tune prompt. Then, test dataset (`test_data`) should be used to calculate the metrics score for selected model, defined prompts and parameters."
   ]
  },
  {
   "cell_type": "code",
   "execution_count": 8,
   "metadata": {},
   "outputs": [],
   "source": [
    "filename_test = 'https://watsonx-gsi-challenge.s3.jp-tok.cloud-object-storage.appdomain.cloud/track1/test.csv'\n",
    "filename_train = 'https://watsonx-gsi-challenge.s3.jp-tok.cloud-object-storage.appdomain.cloud/track1/train.csv'\n",
    "\n",
    "test_data = read_csv(filename_test)\n",
    "train_data = read_csv(filename_train)"
   ]
  },
  {
   "cell_type": "code",
   "execution_count": 6,
   "metadata": {},
   "outputs": [
    {
     "data": {
      "text/html": [
       "<div>\n",
       "<style scoped>\n",
       "    .dataframe tbody tr th:only-of-type {\n",
       "        vertical-align: middle;\n",
       "    }\n",
       "\n",
       "    .dataframe tbody tr th {\n",
       "        vertical-align: top;\n",
       "    }\n",
       "\n",
       "    .dataframe thead th {\n",
       "        text-align: right;\n",
       "    }\n",
       "</style>\n",
       "<table border=\"1\" class=\"dataframe\">\n",
       "  <thead>\n",
       "    <tr style=\"text-align: right;\">\n",
       "      <th></th>\n",
       "      <th>ID</th>\n",
       "      <th>Gender</th>\n",
       "      <th>Status</th>\n",
       "      <th>Children</th>\n",
       "      <th>Age</th>\n",
       "      <th>Customer_Status</th>\n",
       "      <th>Car_Owner</th>\n",
       "      <th>Customer_Service</th>\n",
       "      <th>Satisfaction</th>\n",
       "      <th>Business_Area</th>\n",
       "      <th>Action</th>\n",
       "    </tr>\n",
       "  </thead>\n",
       "  <tbody>\n",
       "    <tr>\n",
       "      <th>0</th>\n",
       "      <td>2944</td>\n",
       "      <td>Female</td>\n",
       "      <td>M</td>\n",
       "      <td>2</td>\n",
       "      <td>41.92</td>\n",
       "      <td>Active</td>\n",
       "      <td>No</td>\n",
       "      <td>Customer service was friendly and helpful.</td>\n",
       "      <td>1</td>\n",
       "      <td>Service: Knowledge</td>\n",
       "      <td>NaN</td>\n",
       "    </tr>\n",
       "    <tr>\n",
       "      <th>1</th>\n",
       "      <td>1119</td>\n",
       "      <td>Female</td>\n",
       "      <td>M</td>\n",
       "      <td>2</td>\n",
       "      <td>33.60</td>\n",
       "      <td>Active</td>\n",
       "      <td>Yes</td>\n",
       "      <td>Customer service was good at MSP airport and t...</td>\n",
       "      <td>1</td>\n",
       "      <td>Service: Knowledge</td>\n",
       "      <td>NaN</td>\n",
       "    </tr>\n",
       "    <tr>\n",
       "      <th>2</th>\n",
       "      <td>0</td>\n",
       "      <td>Male</td>\n",
       "      <td>M</td>\n",
       "      <td>0</td>\n",
       "      <td>51.00</td>\n",
       "      <td>Inactive</td>\n",
       "      <td>Yes</td>\n",
       "      <td>I do not  understand why I have to pay additio...</td>\n",
       "      <td>0</td>\n",
       "      <td>Product: Pricing and Billing</td>\n",
       "      <td>Premium features</td>\n",
       "    </tr>\n",
       "    <tr>\n",
       "      <th>3</th>\n",
       "      <td>1085</td>\n",
       "      <td>Female</td>\n",
       "      <td>S</td>\n",
       "      <td>2</td>\n",
       "      <td>42.00</td>\n",
       "      <td>Inactive</td>\n",
       "      <td>No</td>\n",
       "      <td>Based on the customer service personnel I enco...</td>\n",
       "      <td>0</td>\n",
       "      <td>Service: Attitude</td>\n",
       "      <td>On-demand pickup location</td>\n",
       "    </tr>\n",
       "    <tr>\n",
       "      <th>4</th>\n",
       "      <td>0</td>\n",
       "      <td>Female</td>\n",
       "      <td>M</td>\n",
       "      <td>2</td>\n",
       "      <td>44.10</td>\n",
       "      <td>Active</td>\n",
       "      <td>No</td>\n",
       "      <td>Provide more convenient car pickup from the ai...</td>\n",
       "      <td>0</td>\n",
       "      <td>Service: Orders/Contracts</td>\n",
       "      <td>On-demand pickup location</td>\n",
       "    </tr>\n",
       "  </tbody>\n",
       "</table>\n",
       "</div>"
      ],
      "text/plain": [
       "     ID  Gender Status  Children    Age Customer_Status Car_Owner  \\\n",
       "0  2944  Female      M         2  41.92          Active        No   \n",
       "1  1119  Female      M         2  33.60          Active       Yes   \n",
       "2     0    Male      M         0  51.00        Inactive       Yes   \n",
       "3  1085  Female      S         2  42.00        Inactive        No   \n",
       "4     0  Female      M         2  44.10          Active        No   \n",
       "\n",
       "                                    Customer_Service  Satisfaction  \\\n",
       "0         Customer service was friendly and helpful.             1   \n",
       "1  Customer service was good at MSP airport and t...             1   \n",
       "2  I do not  understand why I have to pay additio...             0   \n",
       "3  Based on the customer service personnel I enco...             0   \n",
       "4  Provide more convenient car pickup from the ai...             0   \n",
       "\n",
       "                  Business_Area                     Action  \n",
       "0            Service: Knowledge                        NaN  \n",
       "1            Service: Knowledge                        NaN  \n",
       "2  Product: Pricing and Billing           Premium features  \n",
       "3             Service: Attitude  On-demand pickup location  \n",
       "4     Service: Orders/Contracts  On-demand pickup location  "
      ]
     },
     "execution_count": 6,
     "metadata": {},
     "output_type": "execute_result"
    }
   ],
   "source": [
    "train_data.head()"
   ]
  },
  {
   "cell_type": "code",
   "execution_count": 7,
   "metadata": {},
   "outputs": [
    {
     "data": {
      "text/html": [
       "<div>\n",
       "<style scoped>\n",
       "    .dataframe tbody tr th:only-of-type {\n",
       "        vertical-align: middle;\n",
       "    }\n",
       "\n",
       "    .dataframe tbody tr th {\n",
       "        vertical-align: top;\n",
       "    }\n",
       "\n",
       "    .dataframe thead th {\n",
       "        text-align: right;\n",
       "    }\n",
       "</style>\n",
       "<table border=\"1\" class=\"dataframe\">\n",
       "  <thead>\n",
       "    <tr style=\"text-align: right;\">\n",
       "      <th></th>\n",
       "      <th>ID</th>\n",
       "      <th>Gender</th>\n",
       "      <th>Status</th>\n",
       "      <th>Children</th>\n",
       "      <th>Age</th>\n",
       "      <th>Customer_Status</th>\n",
       "      <th>Car_Owner</th>\n",
       "      <th>Customer_Service</th>\n",
       "      <th>Satisfaction</th>\n",
       "      <th>Business_Area</th>\n",
       "      <th>Action</th>\n",
       "    </tr>\n",
       "  </thead>\n",
       "  <tbody>\n",
       "    <tr>\n",
       "      <th>0</th>\n",
       "      <td>2771</td>\n",
       "      <td>Female</td>\n",
       "      <td>M</td>\n",
       "      <td>2</td>\n",
       "      <td>49.99</td>\n",
       "      <td>Inactive</td>\n",
       "      <td>No</td>\n",
       "      <td>last time I rented a car was at Manchester, NH...</td>\n",
       "      <td>0</td>\n",
       "      <td>Product: Functioning</td>\n",
       "      <td>On-demand pickup location</td>\n",
       "    </tr>\n",
       "    <tr>\n",
       "      <th>1</th>\n",
       "      <td>1133</td>\n",
       "      <td>Male</td>\n",
       "      <td>S</td>\n",
       "      <td>1</td>\n",
       "      <td>56.05</td>\n",
       "      <td>Inactive</td>\n",
       "      <td>No</td>\n",
       "      <td>Please lower the prices.</td>\n",
       "      <td>0</td>\n",
       "      <td>Product: Pricing and Billing</td>\n",
       "      <td>Free Upgrade</td>\n",
       "    </tr>\n",
       "    <tr>\n",
       "      <th>2</th>\n",
       "      <td>900</td>\n",
       "      <td>Female</td>\n",
       "      <td>M</td>\n",
       "      <td>1</td>\n",
       "      <td>64.64</td>\n",
       "      <td>Active</td>\n",
       "      <td>No</td>\n",
       "      <td>Excellent response dealing with child seat.</td>\n",
       "      <td>1</td>\n",
       "      <td>Service: Accessibility</td>\n",
       "      <td>NaN</td>\n",
       "    </tr>\n",
       "    <tr>\n",
       "      <th>3</th>\n",
       "      <td>3795</td>\n",
       "      <td>Male</td>\n",
       "      <td>M</td>\n",
       "      <td>0</td>\n",
       "      <td>46.51</td>\n",
       "      <td>Inactive</td>\n",
       "      <td>No</td>\n",
       "      <td>all went quite smoothly... it was Enterprise, ...</td>\n",
       "      <td>1</td>\n",
       "      <td>Service: Accessibility</td>\n",
       "      <td>NaN</td>\n",
       "    </tr>\n",
       "    <tr>\n",
       "      <th>4</th>\n",
       "      <td>3541</td>\n",
       "      <td>Male</td>\n",
       "      <td>S</td>\n",
       "      <td>1</td>\n",
       "      <td>17.01</td>\n",
       "      <td>Inactive</td>\n",
       "      <td>Yes</td>\n",
       "      <td>Slow, long lineup</td>\n",
       "      <td>0</td>\n",
       "      <td>Product: Functioning</td>\n",
       "      <td>On-demand pickup location</td>\n",
       "    </tr>\n",
       "  </tbody>\n",
       "</table>\n",
       "</div>"
      ],
      "text/plain": [
       "     ID  Gender Status  Children    Age Customer_Status Car_Owner  \\\n",
       "0  2771  Female      M         2  49.99        Inactive        No   \n",
       "1  1133    Male      S         1  56.05        Inactive        No   \n",
       "2   900  Female      M         1  64.64          Active        No   \n",
       "3  3795    Male      M         0  46.51        Inactive        No   \n",
       "4  3541    Male      S         1  17.01        Inactive       Yes   \n",
       "\n",
       "                                    Customer_Service  Satisfaction  \\\n",
       "0  last time I rented a car was at Manchester, NH...             0   \n",
       "1                           Please lower the prices.             0   \n",
       "2        Excellent response dealing with child seat.             1   \n",
       "3  all went quite smoothly... it was Enterprise, ...             1   \n",
       "4                                  Slow, long lineup             0   \n",
       "\n",
       "                  Business_Area                     Action  \n",
       "0          Product: Functioning  On-demand pickup location  \n",
       "1  Product: Pricing and Billing               Free Upgrade  \n",
       "2        Service: Accessibility                        NaN  \n",
       "3        Service: Accessibility                        NaN  \n",
       "4          Product: Functioning  On-demand pickup location  "
      ]
     },
     "execution_count": 7,
     "metadata": {},
     "output_type": "execute_result"
    }
   ],
   "source": [
    "test_data.head()"
   ]
  },
  {
   "cell_type": "markdown",
   "metadata": {},
   "source": [
    "<a id=\"models\"></a>\n",
    "## Foundation Models on Watsonx"
   ]
  },
  {
   "cell_type": "markdown",
   "metadata": {},
   "source": [
    "\n",
    "\n",
    "Below code invokes Watson Machine Learning API to invoke Watsonx.ai LLMs\n"
   ]
  },
  {
   "cell_type": "code",
   "execution_count": 9,
   "metadata": {},
   "outputs": [],
   "source": [
    "import requests\n",
    "\n",
    "class Prompt:\n",
    "    def __init__(self, access_token, project_id):\n",
    "        self.access_token = access_token\n",
    "        self.project_id = project_id\n",
    "\n",
    "    def generate(self, input, model_id, parameters):\n",
    "        wml_url = \"https://us-south.ml.cloud.ibm.com/ml/v1-beta/generation/text?version=2023-05-28\"\n",
    "        Headers = {\n",
    "            \"Authorization\": \"Bearer \" + self.access_token,\n",
    "            \"Content-Type\": \"application/json\",\n",
    "            \"Accept\": \"application/json\"\n",
    "        }\n",
    "        data = {\n",
    "            \"model_id\": model_id,\n",
    "            \"input\": input,\n",
    "            \"parameters\": parameters,\n",
    "            \"project_id\": self.project_id\n",
    "        }\n",
    "        response = requests.post(wml_url, json=data, headers=Headers)\n",
    "        if response.status_code == 200:\n",
    "            return response.json()[\"results\"][0][\"generated_text\"]\n",
    "        else:\n",
    "            return response.text"
   ]
  },
  {
   "cell_type": "markdown",
   "metadata": {},
   "source": [
    "<a id=\"predict\"></a>\n",
    "## Evaluate the model, prompt and parameters"
   ]
  },
  {
   "cell_type": "markdown",
   "metadata": {},
   "source": [
    "### **1. Customer satisfaction**"
   ]
  },
  {
   "cell_type": "markdown",
   "metadata": {},
   "source": [
    "Define instructions for the model to recognize if customer was satisfied or unsatisfied.\n",
    "\n",
    "**Note:** Please **start with using [watsonx.ai Prompt Lab](https://dataplatform.cloud.ibm.com/wx/home?context=wx)** to find better prompts that provides you the best result on a small subset training records (under `train_data` variable). Make sure to not run an inference of all of `train_data`, as it'll take a long time to get the results. To get a sample from `train_data`, you can use e.g.`train_data.head(n=10)` to get first 10 records, or `train_data.sample(n=10)` to get random 10 records. Only once you have identified the best performing prompt, update this notebook to use the prompt and compute the metrics on the test data.\n",
    "\n",
    "**Action:** Please edit the below cell and add your own prompt here. In the below prompt, we have the instruction (first sentence) and one example included in the prompt.  If you want to change the prompt or add your own examples or more examples, please change the below prompt accordingly."
   ]
  },
  {
   "cell_type": "code",
   "execution_count": 10,
   "metadata": {},
   "outputs": [],
   "source": [
    "satisfaction_instruction = \"\"\"Understand the sentiment of the comment and Classify the customer satisfaction as 0 or 1 and classify as 1 if the sentiment seems neutral.\n",
    " \n",
    "comment: I have had a few recent rentals that have taken a very very long time, with no offer of apology.\n",
    "In the most recent case, the agent subsequently offered me a car type on an upgrade coupon and then told me it was no longer available.\n",
    "satisfaction:0\n",
    "comment:they were trying to satisfy me even though my wife tells me I was being rude\n",
    "satisfaction:1\n",
    "comment:The customer service agent was helpful, but I find that providing all of the information to the agent takes too long.  It would be nice if I could provide all of the information to the agent prior to coming the rental place.\n",
    "satisfaction:0\n",
    "comment:Based on the customer service personnel I encountered most recently, I would say it is vastly preferable for the personnel to be able to at least pretend to care whether the customer ever actually receives a car rental that was reserved months in advance.\t0\n",
    "Provide more convenient car pickup from the airport parking.\n",
    "satisfaction:0\n",
    "comment:We had a small problem with the size of car we reserved being available. The company was able to send another car over from a different location. We were delayed in getting on the road, but were satisfied with the car.\n",
    "satisfaction:1\n",
    "comment:I guess it really DOES try harder.\n",
    "satisfaction:1\n",
    "comment:It was okay, we got the car quickly, which is the most important thing\n",
    "satisfaction:1\n",
    "comment:Customer service was average.  They did not go above and beyond.  They did, however, do more than the minimum.\n",
    "satisfaction:1\n",
    "comment:My experience was positive .The thing I didnt like was returning the car with full tank.  It was time consuming, but I didn't want to pay fill-up charge to the rental company\n",
    "satisfaction:1\n",
    "comment:Person very friendly but only person working counter\n",
    "satisfaction:1\n",
    "comment:Last time I rented a car was when I went skiing with my whole family.  We got a Chevy Blazer.  We didn't think it was as large as a Ford Explorer, so we asked to switch.  The agent was very nice and gave us the Ford Explorer.\n",
    "satsifaction:1\n",
    "comment:\"\"\""
   ]
  },
  {
   "cell_type": "markdown",
   "metadata": {},
   "source": [
    "### Defining the model parameters\n",
    "We need to provide a set of model parameters that will influence the result. We will use IBM's Granite model."
   ]
  },
  {
   "cell_type": "code",
   "execution_count": 11,
   "metadata": {},
   "outputs": [],
   "source": [
    "parameters = {\n",
    "    \"decoding_method\": \"greedy\",\n",
    "    \"max_new_tokens\": 10,\n",
    "    \"min_new_tokens\": 1,\n",
    "    \"repetition_penalty\": 1\n",
    "}\n",
    "\n",
    "model_id = \"ibm/granite-13b-instruct-v1\""
   ]
  },
  {
   "cell_type": "markdown",
   "metadata": {},
   "source": [
    "Analyze the customer satisfaction for inputs from the test set.\n",
    "\n",
    "**Note:** Execution of this cell could take several minutes."
   ]
  },
  {
   "cell_type": "code",
   "execution_count": 14,
   "metadata": {},
   "outputs": [],
   "source": [
    "results = []\n",
    "prompt = Prompt(access_token, project_id)\n",
    "comments = list(test_data.Customer_Service)\n",
    "satisfaction = list(test_data.Satisfaction.astype(str))\n",
    "\n",
    "for input_text in comments:\n",
    "    results.append(prompt.generate(\"\".join([satisfaction_instruction, input_text,\"satisfaction:\"]), model_id, parameters))"
   ]
  },
  {
   "cell_type": "markdown",
   "metadata": {},
   "source": [
    "### Calculate the F1 micro score"
   ]
  },
  {
   "cell_type": "code",
   "execution_count": 15,
   "metadata": {},
   "outputs": [
    {
     "name": "stdout",
     "output_type": "stream",
     "text": [
      "f1_micro_score 1.0\n"
     ]
    }
   ],
   "source": [
    "from sklearn.metrics import f1_score\n",
    "\n",
    "print('f1_micro_score', f1_score(satisfaction, results, average='micro'))"
   ]
  },
  {
   "cell_type": "markdown",
   "metadata": {},
   "source": [
    "### **2. Offer Recommendation**"
   ]
  },
  {
   "cell_type": "markdown",
   "metadata": {},
   "source": [
    "Define instructions for the model to recommend best offer to an unsatisfied customer.\n",
    "\n",
    "**Note:** Please **start with using [watsonx.ai Prompt Lab](https://dataplatform.cloud.ibm.com/wx/home?context=wx)** to find better prompts that provides you the best result on a small subset training records (under `train_data` variable). Make sure to not run an inference of all of `train_data`, as it'll take a long time to get the results. To get a sample from `train_data`, you can use e.g.`train_data.head(n=10)` to get first 10 records, or `train_data.sample(n=10)` to get random 10 records. Only once you have identified the best performing prompt, update this notebook to use the prompt and compute the metrics on the test data.\n",
    "\n",
    "**Action:** Please edit the below cell and add your own prompt here. In the below prompt, we have the instruction (first sentence) and one example included in the prompt.  If you want to change the prompt or add your own examples or more examples, please change the below prompt accordingly."
   ]
  },
  {
   "cell_type": "code",
   "execution_count": 23,
   "metadata": {},
   "outputs": [],
   "source": [
    "offer_recommendation_instruction = \"\"\"\n",
    "Identify the customer's sentiment in the comment.\n",
    "Identify the main pain point: What is the customer most unhappy with?\n",
    "Recommend an offer that addresses the customer's pain point.\n",
    "Below are the 4 available offers.\n",
    "\n",
    "1.On-demand pickup location\n",
    "When to offer: For customers who complained about slow, long lineup, inconvenient pickup locations.\n",
    "Who don't like customers yelling employees not in charge of the issues.\n",
    "When windows were closed. Hate having to walk with big bags and search the car which is always in the furthest corner.\n",
    "When customers are in a hurry, such as those who have a flight to catch or who have an important meeting to attend.\n",
    "When customer is unhappy with the wait time to pick up their car. Bad customer service(rep) experience, overworked employees, bad printer or register.\n",
    "\n",
    "2.Free Upgrade\n",
    "When to offer: This offer should be given to customers who have a lot of luggage, a negative experience with the company, such as those who have experienced slow service, hate to wait long lines(old customer),rude customer service, or problems with their rental car.\n",
    "This offer can also be given to customers who have been loyal to the company, such as those who have been renting cars from the company for a long time(many years ago) or who have rented multiple cars from the company in the past(many years ago).\n",
    "The customer is unhappy with the car they were given.\n",
    "When a customer asks for lower price or upgrade.\n",
    "Polite enough customers, who have not spoken to a car rental company recently or last called years ago, who hate to wait in lines and have a lot of luggage.\n",
    "\n",
    "3.Voucher\n",
    "When to offer: This offer should be given to customers who have had a very negative or bad experience with the company, received a dirty car, or had problems with their rental car that were not resolved, or overcharged.\n",
    "For customers who are new to the company, in order to encourage them to rent a car from the company in the future.\n",
    "The customer had a negative or bad experience(pain) overall and wants to be compensated.\n",
    "Forget to ask customer details like driver's license. Felt pain with overcharge and got money back.\n",
    "Customer who looks for enjoyment of the car. Rent a car from airport cause it's cheaper. Who won't return if it's a bad experience.\n",
    "\n",
    "\n",
    "4.Premium features\n",
    "When to offer: This offer should be given to customers who have complained about the lack of features in their rental car, such as those who have rented an economy car and wished they had upgraded to a car with more features. Frequent user.\n",
    "This offer can also be given to customers who are willing to pay extra for additional features, such as a GPS system.\n",
    "The customer is looking for importance for enjoyment of the car, services.\n",
    "Agents take insurance and ask customer to pay more even after customer said no.\n",
    "\n",
    "Examples:\n",
    "\n",
    "comment:Initially the representative handled the situation badly.  No car was available, even next day.  Then the rep helped to find us a car in another agency.\n",
    "offer recommended:Free Upgrade\n",
    "comment:Provide more convenient car pickup from the airport parking.\n",
    "offer recommended:On-demand pickup location\n",
    "comment:It would be nice if they included maps to the airport drop off with the car, last time we got lost returning the car and almost missed the flight.  There was nothing on the exit that indicated rental returns.  Actually the one I really liked, was when we\n",
    "offer recommended:Premium features\n",
    "comment:It was absolutely ATROCIOUS! My wife and I were in a foreign country  when we realized that our car had an expired license plate and expired proof of insurance!\n",
    "offer recommended:Voucher\n",
    "\n",
    "comment:Based on the customer service personnel I encountered most recently, I would say it is vastly preferable for the personnel to be able to at least pretend to care whether the customer ever actually receives a car rental that was reserved months in advance.\n",
    "offer recommended:On-demand pickup location\n",
    "comment:it seems that they never have the class of car that I ordered.  also, the last time I got there earlier than I thought and they wouldn't let me have the car until the time that I had requested it because their computer wouldn't allow it.\n",
    "offer recommended:Free Upgrade\n",
    "comment:\"sorely lacking\"  helpdesk was not much helpfull\n",
    "offer recommended:Voucher\n",
    "comment:I would like the reps be knowledgeable about the immediate area around the rental agency and or have maps for the area available free of charge.\n",
    "offer recommended:Premium features\n",
    "\n",
    "comment:I do not  understand why I have to pay additional fee if vehicle is returned without a full tank.\n",
    "offer recommended:Premium features\n",
    "comment:They were too pushy in trying to sell insurance.\n",
    "offer recommended:Free Upgrade\n",
    "comment:The customer service agent was helpful, but I find that providing all of the information to the agent takes too long.  It would be nice if I could provide all of the information to the agent prior to coming the rental place.\n",
    "offer recommended:On-demand pickup location\n",
    "comment:I have had a few recent rentals that have taken a very very long time, with no offer of apology.  In the most recent case, the agent subsequently offered me a car type on an upgrade coupon and then told me it was no longer available because it had just be\n",
    "offer recommended:Voucher\n",
    "\n",
    "comment:Customer Service at Alamo was RUDE. We waited in line for over an hour to get our car. Car was bad. Had to change it few days later. Another family traveling with us was upgraded to a larger car as they were out of the type of car booked.\n",
    "offer recommended:Free Upgrade\n",
    "comment:what customer service? It was a nightmare\n",
    "offer recommended:Voucher\n",
    "comment:I would like the personnel to pretend they care about customer, at least.\n",
    "offer recommended:On-demand pickup location\n",
    "comment:States have different rules and regulations pertaining to speed, radar detectors, even when light should be on.  Customer services reps should have a handout or be knowledgeable of a particular state's laws.\n",
    "offer recommended:Premium features\n",
    "\"\"\""
   ]
  },
  {
   "cell_type": "markdown",
   "metadata": {},
   "source": [
    "### Defining the model parameters\n",
    "We need to provide a set of model parameters that will influence the result. We will use IBM's Granite model."
   ]
  },
  {
   "cell_type": "code",
   "execution_count": 17,
   "metadata": {},
   "outputs": [],
   "source": [
    "parameters = {\n",
    "    \"decoding_method\": \"greedy\",\n",
    "    \"max_new_tokens\": 30,\n",
    "    \"min_new_tokens\": 1,\n",
    "    \"repetition_penalty\": 1\n",
    "}\n",
    "\n",
    "model_id = \"ibm/granite-13b-instruct-v1\""
   ]
  },
  {
   "cell_type": "markdown",
   "metadata": {},
   "source": [
    "Filter test data for unsatisfied customer"
   ]
  },
  {
   "cell_type": "code",
   "execution_count": 18,
   "metadata": {},
   "outputs": [
    {
     "data": {
      "text/html": [
       "<div>\n",
       "<style scoped>\n",
       "    .dataframe tbody tr th:only-of-type {\n",
       "        vertical-align: middle;\n",
       "    }\n",
       "\n",
       "    .dataframe tbody tr th {\n",
       "        vertical-align: top;\n",
       "    }\n",
       "\n",
       "    .dataframe thead th {\n",
       "        text-align: right;\n",
       "    }\n",
       "</style>\n",
       "<table border=\"1\" class=\"dataframe\">\n",
       "  <thead>\n",
       "    <tr style=\"text-align: right;\">\n",
       "      <th></th>\n",
       "      <th>ID</th>\n",
       "      <th>Gender</th>\n",
       "      <th>Status</th>\n",
       "      <th>Children</th>\n",
       "      <th>Age</th>\n",
       "      <th>Customer_Status</th>\n",
       "      <th>Car_Owner</th>\n",
       "      <th>Customer_Service</th>\n",
       "      <th>Satisfaction</th>\n",
       "      <th>Business_Area</th>\n",
       "      <th>Action</th>\n",
       "    </tr>\n",
       "  </thead>\n",
       "  <tbody>\n",
       "    <tr>\n",
       "      <th>0</th>\n",
       "      <td>2771</td>\n",
       "      <td>Female</td>\n",
       "      <td>M</td>\n",
       "      <td>2</td>\n",
       "      <td>49.99</td>\n",
       "      <td>Inactive</td>\n",
       "      <td>No</td>\n",
       "      <td>last time I rented a car was at Manchester, NH...</td>\n",
       "      <td>0</td>\n",
       "      <td>Product: Functioning</td>\n",
       "      <td>On-demand pickup location</td>\n",
       "    </tr>\n",
       "    <tr>\n",
       "      <th>1</th>\n",
       "      <td>1133</td>\n",
       "      <td>Male</td>\n",
       "      <td>S</td>\n",
       "      <td>1</td>\n",
       "      <td>56.05</td>\n",
       "      <td>Inactive</td>\n",
       "      <td>No</td>\n",
       "      <td>Please lower the prices.</td>\n",
       "      <td>0</td>\n",
       "      <td>Product: Pricing and Billing</td>\n",
       "      <td>Free Upgrade</td>\n",
       "    </tr>\n",
       "    <tr>\n",
       "      <th>4</th>\n",
       "      <td>3541</td>\n",
       "      <td>Male</td>\n",
       "      <td>S</td>\n",
       "      <td>1</td>\n",
       "      <td>17.01</td>\n",
       "      <td>Inactive</td>\n",
       "      <td>Yes</td>\n",
       "      <td>Slow, long lineup</td>\n",
       "      <td>0</td>\n",
       "      <td>Product: Functioning</td>\n",
       "      <td>On-demand pickup location</td>\n",
       "    </tr>\n",
       "    <tr>\n",
       "      <th>5</th>\n",
       "      <td>2608</td>\n",
       "      <td>Female</td>\n",
       "      <td>S</td>\n",
       "      <td>0</td>\n",
       "      <td>32.02</td>\n",
       "      <td>Active</td>\n",
       "      <td>No</td>\n",
       "      <td>Customer is important for the enjoyment of the...</td>\n",
       "      <td>0</td>\n",
       "      <td>Product: Functioning</td>\n",
       "      <td>Voucher</td>\n",
       "    </tr>\n",
       "    <tr>\n",
       "      <th>7</th>\n",
       "      <td>3382</td>\n",
       "      <td>Male</td>\n",
       "      <td>M</td>\n",
       "      <td>1</td>\n",
       "      <td>52.15</td>\n",
       "      <td>Inactive</td>\n",
       "      <td>No</td>\n",
       "      <td>They should upgrade me every time.</td>\n",
       "      <td>0</td>\n",
       "      <td>Service: Knowledge</td>\n",
       "      <td>Free Upgrade</td>\n",
       "    </tr>\n",
       "  </tbody>\n",
       "</table>\n",
       "</div>"
      ],
      "text/plain": [
       "     ID  Gender Status  Children    Age Customer_Status Car_Owner  \\\n",
       "0  2771  Female      M         2  49.99        Inactive        No   \n",
       "1  1133    Male      S         1  56.05        Inactive        No   \n",
       "4  3541    Male      S         1  17.01        Inactive       Yes   \n",
       "5  2608  Female      S         0  32.02          Active        No   \n",
       "7  3382    Male      M         1  52.15        Inactive        No   \n",
       "\n",
       "                                    Customer_Service  Satisfaction  \\\n",
       "0  last time I rented a car was at Manchester, NH...             0   \n",
       "1                           Please lower the prices.             0   \n",
       "4                                  Slow, long lineup             0   \n",
       "5  Customer is important for the enjoyment of the...             0   \n",
       "7                 They should upgrade me every time.             0   \n",
       "\n",
       "                  Business_Area                     Action  \n",
       "0          Product: Functioning  On-demand pickup location  \n",
       "1  Product: Pricing and Billing               Free Upgrade  \n",
       "4          Product: Functioning  On-demand pickup location  \n",
       "5          Product: Functioning                    Voucher  \n",
       "7            Service: Knowledge               Free Upgrade  "
      ]
     },
     "execution_count": 18,
     "metadata": {},
     "output_type": "execute_result"
    }
   ],
   "source": [
    "unsatisfied_test_data = test_data.loc[test_data['Satisfaction'] == 0]\n",
    "unsatisfied_test_data.head()"
   ]
  },
  {
   "cell_type": "markdown",
   "metadata": {},
   "source": [
    "Analyze the recommended actions for inputs from the test set.\n",
    "\n",
    "**Note:** Execution of this cell could take several minutes."
   ]
  },
  {
   "cell_type": "code",
   "execution_count": 24,
   "metadata": {},
   "outputs": [],
   "source": [
    "results = []\n",
    "prompt = Prompt(access_token, project_id)\n",
    "comments = list(unsatisfied_test_data.Customer_Service)\n",
    "offer_recommended = list(unsatisfied_test_data.Action.astype(str))\n",
    "\n",
    "for input_text in comments:\n",
    "    results.append(prompt.generate(\"\".join([offer_recommendation_instruction,\"\\ncomment:\", input_text,\"\\noffer_recommended:\"]), model_id, parameters))"
   ]
  },
  {
   "cell_type": "markdown",
   "metadata": {},
   "source": [
    "### Calculate the F1 micro score"
   ]
  },
  {
   "cell_type": "code",
   "execution_count": 25,
   "metadata": {},
   "outputs": [
    {
     "name": "stdout",
     "output_type": "stream",
     "text": [
      "f1_micro_score 0.8333333333333334\n"
     ]
    }
   ],
   "source": [
    "from sklearn.metrics import f1_score\n",
    "\n",
    "print('f1_micro_score', f1_score(offer_recommended, results, average='micro'))"
   ]
  },
  {
   "cell_type": "markdown",
   "metadata": {},
   "source": [
    "---"
   ]
  },
  {
   "cell_type": "markdown",
   "metadata": {},
   "source": [
    "Copyright © 2023 IBM. This notebook and its source code are released under the terms of the MIT License."
   ]
  },
  {
   "cell_type": "code",
   "execution_count": null,
   "metadata": {},
   "outputs": [],
   "source": []
  }
 ],
 "metadata": {
  "kernelspec": {
   "display_name": "Python 3.10",
   "language": "python",
   "name": "python3"
  },
  "language_info": {
   "codemirror_mode": {
    "name": "ipython",
    "version": 3
   },
   "file_extension": ".py",
   "mimetype": "text/x-python",
   "name": "python",
   "nbconvert_exporter": "python",
   "pygments_lexer": "ipython3",
   "version": "3.10.13"
  }
 },
 "nbformat": 4,
 "nbformat_minor": 1
}
